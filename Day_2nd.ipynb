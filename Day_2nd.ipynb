{
 "cells": [
  {
   "cell_type": "code",
   "execution_count": null,
   "metadata": {},
   "outputs": [],
   "source": [
    "class Solution:\n",
    "    def searchRange(self, nums, target):\n",
    "        "
   ]
  },
  {
   "cell_type": "code",
   "execution_count": null,
   "metadata": {},
   "outputs": [],
   "source": [
    "nums1 = [5,7,7,8,8,10]\n",
    "target1 = 8\n",
    "Output1=[3,4]\n",
    "nums2 = [5,7,7,8,8,10]\n",
    "target2 = 6\n",
    "Output2=[-1,-1]\n",
    "nums3 = []\n",
    "target3 = 0\n",
    "Output3=[-1,-1]"
   ]
  }
 ],
 "metadata": {
  "language_info": {
   "name": "python"
  },
  "orig_nbformat": 4
 },
 "nbformat": 4,
 "nbformat_minor": 2
}
