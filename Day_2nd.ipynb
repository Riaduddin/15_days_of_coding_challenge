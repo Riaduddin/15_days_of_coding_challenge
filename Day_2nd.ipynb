{
 "cells": [
  {
   "cell_type": "code",
   "execution_count": 65,
   "metadata": {},
   "outputs": [],
   "source": [
    "class Solution:\n",
    "    def searchRange(self, nums, target):\n",
    "        l,r=0,len(nums)-1\n",
    "        result=[]\n",
    "        if l==r:\n",
    "            if nums[l]==target:\n",
    "                return [l,r]\n",
    "            else:\n",
    "                return [-1,-1]\n",
    "        while l<=r:\n",
    "            mid=(l+r)//2\n",
    "            if nums[mid]==target:\n",
    "                value=mid\n",
    "                result.append(value)\n",
    "                while mid>0 and nums[mid]==nums[mid-1]:\n",
    "                    result[0]=mid-1\n",
    "                    mid=mid-1\n",
    "                mid=value\n",
    "                while mid+1<len(nums) and nums[mid]==nums[mid+1]:\n",
    "                    mid=mid+1\n",
    "                result.append(mid)\n",
    "                return result\n",
    "            elif nums[mid]<target:\n",
    "                l=mid+1\n",
    "            else:\n",
    "                r=mid-1\n",
    "        return [-1,-1]\n",
    "\n",
    "        "
   ]
  },
  {
   "cell_type": "code",
   "execution_count": 73,
   "metadata": {},
   "outputs": [],
   "source": [
    "#With more efficient:\n",
    "class Solution:\n",
    "    def searchRange(self, nums, target):\n",
    "        left=self.binSearch(nums,target,True)\n",
    "        right=self.binSearch(nums,target,False)\n",
    "        return [left,right]\n",
    "\n",
    "    def binSearch(self,nums,target,leftbias):\n",
    "        l,r=0,len(nums)-1\n",
    "        i=-1\n",
    "        while l<=r:\n",
    "            m=(l+r)//2\n",
    "            if target>nums[m]:\n",
    "                l=m+1\n",
    "            elif target<nums[m]:\n",
    "                r=m-1\n",
    "            else:\n",
    "                i=m\n",
    "                if leftbias:\n",
    "                    r=m-1\n",
    "                else:\n",
    "                    l=m+1\n",
    "        return i\n"
   ]
  },
  {
   "cell_type": "code",
   "execution_count": 49,
   "metadata": {},
   "outputs": [],
   "source": [
    "nums1 = [5,7,7,8,8,10]\n",
    "target1 = 8\n",
    "Output1=[3,4]\n",
    "nums2 = [5,7,7,8,8,10]\n",
    "target2 = 6\n",
    "Output2=[-1,-1]\n",
    "nums3 = []\n",
    "target3 = 0\n",
    "Output3=[-1,-1]\n",
    "nums4 =[1]\n",
    "target4=1\n",
    "output4=[0,0]\n",
    "nums5=[2,2]\n",
    "target5=3\n",
    "output5=[-1,-1]"
   ]
  },
  {
   "cell_type": "code",
   "execution_count": 74,
   "metadata": {},
   "outputs": [
    {
     "data": {
      "text/plain": [
       "[3, 4]"
      ]
     },
     "execution_count": 74,
     "metadata": {},
     "output_type": "execute_result"
    }
   ],
   "source": [
    "Solution().searchRange(nums1,target1)"
   ]
  },
  {
   "cell_type": "code",
   "execution_count": 76,
   "metadata": {},
   "outputs": [],
   "source": [
    "class Solution:\n",
    "    def searchInsert(self, nums, target):\n",
    "        l,r=0,len(nums)-1\n",
    "        while l<=r:\n",
    "            mid=(l+r)//2\n",
    "            if nums[mid]==target:\n",
    "                return mid\n",
    "            elif nums[mid]>target:\n",
    "                r=mid-1\n",
    "            else:\n",
    "                l=mid+1\n",
    "        return l"
   ]
  },
  {
   "cell_type": "code",
   "execution_count": 75,
   "metadata": {},
   "outputs": [],
   "source": [
    "nums1 = [1,3,5,6]\n",
    "target1 = 5\n",
    "Output1=2\n",
    "nums2 = [1,3,5,6] \n",
    "target2 = 2\n",
    "Output2= 1\n",
    "nums3 = [1,3,5,6]\n",
    "target3 = 7\n",
    "Output3= 4"
   ]
  },
  {
   "cell_type": "code",
   "execution_count": 78,
   "metadata": {},
   "outputs": [
    {
     "data": {
      "text/plain": [
       "4"
      ]
     },
     "execution_count": 78,
     "metadata": {},
     "output_type": "execute_result"
    }
   ],
   "source": [
    "Solution().searchInsert(nums3,target3)"
   ]
  },
  {
   "cell_type": "code",
   "execution_count": 103,
   "metadata": {},
   "outputs": [],
   "source": [
    "class Solution:\n",
    "    def mySqrt(self, x):\n",
    "        s=1\n",
    "        e=x\n",
    "        if x==0 or x==1:\n",
    "            return x\n",
    "        while s<=e:\n",
    "            mid=(s+e)//2\n",
    "            value=mid*mid\n",
    "            if value==x:\n",
    "                return mid\n",
    "            elif value>x:\n",
    "                e=mid-1\n",
    "            else:\n",
    "                s=mid+1\n",
    "                ans=mid\n",
    "        return ans\n",
    "\n",
    "        "
   ]
  },
  {
   "cell_type": "code",
   "execution_count": 98,
   "metadata": {},
   "outputs": [],
   "source": [
    "x1 = 26\n",
    "Output1= 5\n",
    "x2 = 8\n",
    "Output2=2"
   ]
  },
  {
   "cell_type": "code",
   "execution_count": 105,
   "metadata": {},
   "outputs": [
    {
     "data": {
      "text/plain": [
       "2"
      ]
     },
     "execution_count": 105,
     "metadata": {},
     "output_type": "execute_result"
    }
   ],
   "source": [
    "Solution().mySqrt(x2)"
   ]
  },
  {
   "cell_type": "code",
   "execution_count": null,
   "metadata": {},
   "outputs": [],
   "source": []
  }
 ],
 "metadata": {
  "kernelspec": {
   "display_name": "Python 3",
   "language": "python",
   "name": "python3"
  },
  "language_info": {
   "codemirror_mode": {
    "name": "ipython",
    "version": 3
   },
   "file_extension": ".py",
   "mimetype": "text/x-python",
   "name": "python",
   "nbconvert_exporter": "python",
   "pygments_lexer": "ipython3",
   "version": "3.8.10 (default, Nov 14 2022, 12:59:47) \n[GCC 9.4.0]"
  },
  "orig_nbformat": 4,
  "vscode": {
   "interpreter": {
    "hash": "916dbcbb3f70747c44a77c7bcd40155683ae19c65e1c03b4aa3499c5328201f1"
   }
  }
 },
 "nbformat": 4,
 "nbformat_minor": 2
}
