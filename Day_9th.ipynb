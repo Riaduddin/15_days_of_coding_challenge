{
 "cells": [
  {
   "cell_type": "code",
   "execution_count": null,
   "metadata": {},
   "outputs": [],
   "source": [
    "# Definition for a binary tree node.\n",
    "# class TreeNode:\n",
    "#     def __init__(self, val=0, left=None, right=None):\n",
    "#         self.val = val\n",
    "#         self.left = left\n",
    "#         self.right = right\n",
    "class Solution:\n",
    "    def invertTree(self, root):\n",
    "\n",
    "        #By me\n",
    "        dummy=root\n",
    "        left=root.left if root else None\n",
    "        right=root.right if root else None\n",
    "        # while left and right:\n",
    "        if root:\n",
    "            root.left=right\n",
    "            root.right=left\n",
    "            self.invertTree(root.left)\n",
    "            self.invertTree(root.right)\n",
    "        return dummy\n",
    "\n",
    "\n",
    "        #By Neetcode\n",
    "        # if not root:\n",
    "        #     return None\n",
    "        \n",
    "        # tmp=root.left\n",
    "        # root.left=root.right\n",
    "        # root.right=tmp\n",
    "\n",
    "        # self.invertTree(root.left)\n",
    "        # self.invertTree(root.right)\n",
    "\n",
    "        # return root"
   ]
  },
  {
   "cell_type": "code",
   "execution_count": 21,
   "metadata": {},
   "outputs": [],
   "source": [
    "# Definition for a binary tree node.\n",
    "class Node:\n",
    "    def __init__(self, val=0, left=None, right=None):\n",
    "        self.val = val\n",
    "        self.left = left\n",
    "        self.right = right\n",
    "class Solution:\n",
    "    def maxPathSum(self, root) -> int:\n",
    "        max_value=[root.val]\n",
    "        def dfs(root):\n",
    "            if not root:\n",
    "                return 0\n",
    "            leftmax=dfs(root.left)\n",
    "            print('leftmax',leftmax)\n",
    "            rightmax=dfs(root.right)\n",
    "            print('rightmax',rightmax)\n",
    "            leftmax=max(leftmax,0)\n",
    "            rightmax=max(rightmax,0)\n",
    "\n",
    "            max_value[0]=max(max_value[0],root.val+leftmax+rightmax)\n",
    "\n",
    "            return root.val+max(leftmax,rightmax)\n",
    "        \n",
    "        dfs(root)\n",
    "        return max_value[0]\n"
   ]
  },
  {
   "cell_type": "code",
   "execution_count": 22,
   "metadata": {},
   "outputs": [
    {
     "name": "stdout",
     "output_type": "stream",
     "text": [
      "leftmax 0\n",
      "rightmax 0\n",
      "leftmax 2\n",
      "leftmax 0\n",
      "rightmax 0\n",
      "leftmax 4\n",
      "leftmax 0\n",
      "rightmax 0\n",
      "rightmax 5\n",
      "rightmax 8\n"
     ]
    },
    {
     "data": {
      "text/plain": [
       "12"
      ]
     },
     "execution_count": 22,
     "metadata": {},
     "output_type": "execute_result"
    }
   ],
   "source": [
    "Solution().maxPathSum(root)"
   ]
  },
  {
   "cell_type": "code",
   "execution_count": 14,
   "metadata": {},
   "outputs": [],
   "source": [
    "root=Node(1)\n",
    "root.left=Node(2)\n",
    "root.right=Node(3)\n",
    "root.right.left=Node(4)\n",
    "root.right.right=Node(5)"
   ]
  },
  {
   "cell_type": "code",
   "execution_count": 30,
   "metadata": {},
   "outputs": [
    {
     "data": {
      "text/plain": [
       "<__main__.Node at 0x7fd07dad7550>"
      ]
     },
     "execution_count": 30,
     "metadata": {},
     "output_type": "execute_result"
    }
   ],
   "source": [
    "root.right.left"
   ]
  },
  {
   "cell_type": "code",
   "execution_count": 25,
   "metadata": {},
   "outputs": [
    {
     "data": {
      "text/plain": [
       "<__main__.Node at 0x7fd07dce6bb0>"
      ]
     },
     "execution_count": 25,
     "metadata": {},
     "output_type": "execute_result"
    }
   ],
   "source": [
    "root"
   ]
  },
  {
   "cell_type": "code",
   "execution_count": null,
   "metadata": {},
   "outputs": [],
   "source": []
  }
 ],
 "metadata": {
  "kernelspec": {
   "display_name": "Python 3",
   "language": "python",
   "name": "python3"
  },
  "language_info": {
   "codemirror_mode": {
    "name": "ipython",
    "version": 3
   },
   "file_extension": ".py",
   "mimetype": "text/x-python",
   "name": "python",
   "nbconvert_exporter": "python",
   "pygments_lexer": "ipython3",
   "version": "3.8.10"
  },
  "orig_nbformat": 4,
  "vscode": {
   "interpreter": {
    "hash": "916dbcbb3f70747c44a77c7bcd40155683ae19c65e1c03b4aa3499c5328201f1"
   }
  }
 },
 "nbformat": 4,
 "nbformat_minor": 2
}
