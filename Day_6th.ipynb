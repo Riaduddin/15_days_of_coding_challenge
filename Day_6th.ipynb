{
 "cells": [
  {
   "cell_type": "code",
   "execution_count": null,
   "metadata": {},
   "outputs": [],
   "source": [
    "# CREATE FUNCTION getNthHighestSalary(N INT) RETURNS INT\n",
    "# BEGIN\n",
    "#SET N=N-1;\n",
    "#   RETURN (\n",
    "      # Write your MySQL query statement below.\n",
    "        # SELECT DISTINCT Salary from Employee ORDER BY Salary DESC LIMIT N,1\n",
    "        # select a.salary from (select salary,dense_rank() over(order by salary desc) as r from \n",
    "        # Employee) a where a.r=N\n",
    "# );\n",
    "# END"
   ]
  },
  {
   "cell_type": "code",
   "execution_count": 1,
   "metadata": {},
   "outputs": [],
   "source": [
    "#RankScores_178\n",
    "# select score, DENSE_RANK() over(order by score DESC) AS \"rank\" from Scores;"
   ]
  },
  {
   "cell_type": "code",
   "execution_count": null,
   "metadata": {},
   "outputs": [],
   "source": []
  }
 ],
 "metadata": {
  "kernelspec": {
   "display_name": "Python 3",
   "language": "python",
   "name": "python3"
  },
  "language_info": {
   "codemirror_mode": {
    "name": "ipython",
    "version": 3
   },
   "file_extension": ".py",
   "mimetype": "text/x-python",
   "name": "python",
   "nbconvert_exporter": "python",
   "pygments_lexer": "ipython3",
   "version": "3.8.10"
  },
  "orig_nbformat": 4,
  "vscode": {
   "interpreter": {
    "hash": "916dbcbb3f70747c44a77c7bcd40155683ae19c65e1c03b4aa3499c5328201f1"
   }
  }
 },
 "nbformat": 4,
 "nbformat_minor": 2
}
