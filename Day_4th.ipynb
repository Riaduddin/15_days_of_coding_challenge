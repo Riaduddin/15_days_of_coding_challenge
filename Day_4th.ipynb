{
 "cells": [
  {
   "cell_type": "code",
   "execution_count": 5,
   "metadata": {},
   "outputs": [],
   "source": [
    "class ListNode(object):\n",
    "    def __init__(self, val=0, next=None):\n",
    "        self.val = val\n",
    "        self.next = next\n",
    "class Solution:\n",
    "    def mergeKLists(self, lists):\n",
    "        if len(lists)==0 or len(lists)==0:\n",
    "            return None\n",
    "        while len(lists)>1:\n",
    "            mergedlists=[]\n",
    "            for i in range(0,len(lists),2):\n",
    "                l1=lists[i]\n",
    "                l2=lists[i+1] if (i+1)<len(lists) else None\n",
    "                mergedlists.append(self.mergelist(l1,l2))\n",
    "            lists=mergedlists\n",
    "        return lists[0]\n",
    "\n",
    "    def mergelist(self,list1,list2):\n",
    "        dummy=ListNode()\n",
    "        l1,l2=list1,list2\n",
    "        value=dummy\n",
    "        while l1 and l2:\n",
    "            if l1.val<=l2.val:\n",
    "                value.next=l1\n",
    "                value=value.next\n",
    "                l1=l1.next\n",
    "            else:\n",
    "                value.next=l2\n",
    "                value=value.next\n",
    "                l2=l2.next\n",
    "        while l1:\n",
    "            value.next=l1\n",
    "            value=value.next\n",
    "            l1=l1.next\n",
    "        while l2:\n",
    "            value.next=l2\n",
    "            value=value.next\n",
    "            l2=l2.next\n",
    "        return dummy.next"
   ]
  },
  {
   "cell_type": "code",
   "execution_count": 2,
   "metadata": {},
   "outputs": [
    {
     "name": "stdout",
     "output_type": "stream",
     "text": [
      "0\n",
      "2\n",
      "4\n"
     ]
    }
   ],
   "source": [
    "for i in range(0,5,2):\n",
    "    print(i)"
   ]
  },
  {
   "cell_type": "code",
   "execution_count": 1,
   "metadata": {},
   "outputs": [],
   "source": [
    "class Solution:\n",
    "    def swapPairs(self, head):\n",
    "        # if head is None:\n",
    "        #     return head\n",
    "        # if head.next is None:\n",
    "        #     return head\n",
    "        dummy=ListNode(0,head)\n",
    "        curr=dummy\n",
    "        while curr.next and curr.next.next:\n",
    "            temp1=curr.next\n",
    "            temp2=curr.next.next\n",
    "\n",
    "            curr.next,temp2.next,temp1.next =temp2,temp1,temp2.next"
   ]
  },
  {
   "cell_type": "code",
   "execution_count": null,
   "metadata": {},
   "outputs": [],
   "source": [
    "class Solution:\n",
    "    def reverseKGroup(self, head: Optional[ListNode], k: int) -> Optional[ListNode]:\n",
    "        dummy=ListNode(0,head)\n",
    "        groupprev=dummy\n",
    "        while True:\n",
    "            kth_node=self.get_kth_node(groupprev,k)\n",
    "\n",
    "            if not kth_node:\n",
    "                break\n",
    "            \n",
    "            groupnext=kth_node.next\n",
    "\n",
    "            prev=kth_node.next #prev= None\n",
    "            curr=groupprev.next\n",
    "\n",
    "            while curr != groupnext:\n",
    "                tmp=curr.next\n",
    "                curr.next=prev\n",
    "                prev=curr\n",
    "                curr=tmp\n",
    "            \n",
    "            tmp=groupprev.next\n",
    "            groupprev.next=kth_node\n",
    "            groupprev=tmp\n",
    "        return dummy.next\n",
    "            \n",
    "\n",
    "    def get_kth_node(self,node,k):\n",
    "        while node and k>0:\n",
    "            node=node.next\n",
    "            k-=1\n",
    "        return node"
   ]
  }
 ],
 "metadata": {
  "kernelspec": {
   "display_name": "Python 3",
   "language": "python",
   "name": "python3"
  },
  "language_info": {
   "codemirror_mode": {
    "name": "ipython",
    "version": 3
   },
   "file_extension": ".py",
   "mimetype": "text/x-python",
   "name": "python",
   "nbconvert_exporter": "python",
   "pygments_lexer": "ipython3",
   "version": "3.8.10"
  },
  "orig_nbformat": 4,
  "vscode": {
   "interpreter": {
    "hash": "916dbcbb3f70747c44a77c7bcd40155683ae19c65e1c03b4aa3499c5328201f1"
   }
  }
 },
 "nbformat": 4,
 "nbformat_minor": 2
}
