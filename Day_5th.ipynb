{
 "cells": [
  {
   "cell_type": "code",
   "execution_count": null,
   "metadata": {},
   "outputs": [],
   "source": [
    "#SQL COMMAND for combaining two tables\n",
    "# Select \n",
    "#     p.firstName,p.lastName,\n",
    "#     a.city,a.state\n",
    "#     from Person p left join Address a \n",
    "#     on a.personId=p.personId;"
   ]
  },
  {
   "cell_type": "code",
   "execution_count": null,
   "metadata": {},
   "outputs": [],
   "source": [
    "# Second Highest Salary\n",
    "# Write your MySQL query statement below\n",
    "#320ms\n",
    "# select max(salary) as SecondHighestSalary from Employee \n",
    "#     where salary<(select max(salary) from Employee);\n",
    "\n",
    "\n",
    "#LIMIT offset,row_count \n",
    "# The offset specifies the offset of the first row to return. The offset of the first row is 0, not 1.\n",
    "# The row_count specifies the maximum number of rows to return.\n",
    "#288ms\n",
    "# select ifnull(\n",
    "#     (select\n",
    "#  distinct salary from Employee order by salary desc limit 1,1), Null) SecondHighestSalary;\n",
    "\n",
    "\n",
    "#Dense_Rank()\n",
    "#343\n",
    "# Select ifnull((\n",
    "#     SELECT tmp.salary from (select salary,DENSE_RANK() OVER(order by salary desc) as Denserank from Employee) \n",
    "#     tmp where tmp.Denserank=2 limit 1 ), Null) SecondHighestSalary;"
   ]
  },
  {
   "cell_type": "code",
   "execution_count": null,
   "metadata": {},
   "outputs": [],
   "source": []
  }
 ],
 "metadata": {
  "kernelspec": {
   "display_name": "Python 3",
   "language": "python",
   "name": "python3"
  },
  "language_info": {
   "name": "python",
   "version": "3.8.10 (default, Nov 14 2022, 12:59:47) \n[GCC 9.4.0]"
  },
  "orig_nbformat": 4,
  "vscode": {
   "interpreter": {
    "hash": "916dbcbb3f70747c44a77c7bcd40155683ae19c65e1c03b4aa3499c5328201f1"
   }
  }
 },
 "nbformat": 4,
 "nbformat_minor": 2
}
