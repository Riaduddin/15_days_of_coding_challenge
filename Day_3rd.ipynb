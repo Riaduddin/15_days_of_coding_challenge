{
 "cells": [
  {
   "cell_type": "code",
   "execution_count": 8,
   "metadata": {},
   "outputs": [],
   "source": [
    "# Definition for singly-linked list.\n",
    "class ListNode(object):\n",
    "    def __init__(self, val=0, next=None):\n",
    "        self.val = val\n",
    "        self.next = next\n",
    "class Solution(object):\n",
    "    def addTwoNumbers(self, l1, l2):\n",
    "        result=ListNode()\n",
    "        temp=result\n",
    "        carr=0\n",
    "        while l1 or l2 or carr:\n",
    "            val1=l1.val if l1 else 0\n",
    "            val2=l2.val if l2 else 0\n",
    "\n",
    "            val=val1+val2+carr\n",
    "\n",
    "            carr=val//10\n",
    "            val=val%10\n",
    "\n",
    "            #update listnode\n",
    "            temp.next=ListNode(val)\n",
    "            temp=temp.next\n",
    "\n",
    "            l1=l1.next if l1 else None\n",
    "            l2=l2.next if l2 else None\n",
    "        \n",
    "        return result.next\n",
    "        "
   ]
  },
  {
   "cell_type": "code",
   "execution_count": 9,
   "metadata": {},
   "outputs": [],
   "source": [
    "l1 = [2,4,3]\n",
    "l2 = [5,6,4]\n",
    "Output= [7,0,8]"
   ]
  },
  {
   "cell_type": "code",
   "execution_count": 11,
   "metadata": {},
   "outputs": [],
   "source": [
    "class Solution:\n",
    "    def removeNthFromEnd(self, head, n):\n",
    "        result=ListNode(0,head)\n",
    "        l=result\n",
    "        r=head.next #Head is not \n",
    "        while n>1 and r:\n",
    "            r=r.next\n",
    "            n-=1\n",
    "        while r:\n",
    "            l=l.next\n",
    "            r=r.next\n",
    "            # if r is None:             #it will not work for edge cases\n",
    "            #     l.next=l.next.next\n",
    "\n",
    "        l.next=l.next.next\n",
    "        return result.next"
   ]
  },
  {
   "cell_type": "code",
   "execution_count": null,
   "metadata": {},
   "outputs": [],
   "source": [
    "class Solution:\n",
    "    def mergeTwoLists(self, list1, list2):\n",
    "        dummy=ListNode()\n",
    "        l1,l2=list1,list2\n",
    "        value=dummy\n",
    "        while l1 and l2:\n",
    "            if l1.val<=l2.val:\n",
    "                value.next=l1\n",
    "                value=value.next\n",
    "                l1=l1.next\n",
    "            else:\n",
    "                value.next=l2\n",
    "                value=value.next\n",
    "                l2=l2.next\n",
    "        while l1:\n",
    "            value.next=l1\n",
    "            value=value.next\n",
    "            l1=l1.next\n",
    "        while l2:\n",
    "            value.next=l2\n",
    "            value=value.next\n",
    "            l2=l2.next\n",
    "        return dummy.next"
   ]
  },
  {
   "cell_type": "code",
   "execution_count": 2,
   "metadata": {},
   "outputs": [],
   "source": [
    "l1 = [0]\n",
    "l2 = [0]\n",
    "Output=[0]"
   ]
  },
  {
   "cell_type": "code",
   "execution_count": 3,
   "metadata": {},
   "outputs": [],
   "source": [
    "l1 = [9,9,9,9,9,9,9]\n",
    "l2 = [9,9,9,9]\n",
    "Output=[8,9,9,9,0,0,0,1]"
   ]
  },
  {
   "cell_type": "code",
   "execution_count": 7,
   "metadata": {},
   "outputs": [
    {
     "data": {
      "text/plain": [
       "5"
      ]
     },
     "execution_count": 7,
     "metadata": {},
     "output_type": "execute_result"
    }
   ],
   "source": [
    "15//10\n",
    "15%10"
   ]
  },
  {
   "cell_type": "code",
   "execution_count": null,
   "metadata": {},
   "outputs": [],
   "source": []
  }
 ],
 "metadata": {
  "kernelspec": {
   "display_name": "Python 3",
   "language": "python",
   "name": "python3"
  },
  "language_info": {
   "codemirror_mode": {
    "name": "ipython",
    "version": 3
   },
   "file_extension": ".py",
   "mimetype": "text/x-python",
   "name": "python",
   "nbconvert_exporter": "python",
   "pygments_lexer": "ipython3",
   "version": "3.8.10"
  },
  "orig_nbformat": 4,
  "vscode": {
   "interpreter": {
    "hash": "916dbcbb3f70747c44a77c7bcd40155683ae19c65e1c03b4aa3499c5328201f1"
   }
  }
 },
 "nbformat": 4,
 "nbformat_minor": 2
}
