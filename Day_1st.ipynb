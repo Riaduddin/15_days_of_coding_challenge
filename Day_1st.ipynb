{
 "cells": [
  {
   "cell_type": "code",
   "execution_count": 49,
   "metadata": {},
   "outputs": [],
   "source": [
    "class Solution:\n",
    "    def findMedianSortedArrays(self,nums1, nums2):\n",
    "        total=len(nums1)+len(nums2)\n",
    "        A,B=nums1,nums2\n",
    "        half=total//2\n",
    "        if len(B)<len(A):\n",
    "            A,B=B,A\n",
    "        l,h=0,len(A)-1\n",
    "        \n",
    "        while True:\n",
    "            i=(l+h)//2\n",
    "            j=half-i-2\n",
    "            Aleft=A[i] if i>=0 else float('-inf')\n",
    "            Aright=A[i+1] if (i+1)<len(A) else float('inf')\n",
    "            \n",
    "            Bleft=B[j] if j>=0  else float('-inf') #\n",
    "            Bright=B[j+1] if (j+1)<len(B) else float('inf') # and j>=0\n",
    "\n",
    "            if Aleft<=Bright and Aright>=Bleft:\n",
    "                if total%2==0:\n",
    "                    return (max(Aleft,Bleft)+min(Aright,Bright))/2\n",
    "                else:\n",
    "                    return min(Aright,Bright)\n",
    "            elif Aleft >= Bright:\n",
    "                #h+=1\n",
    "                h=i-1\n",
    "            else:\n",
    "                l=i+1 #l-=1"
   ]
  },
  {
   "cell_type": "code",
   "execution_count": 50,
   "metadata": {},
   "outputs": [
    {
     "name": "stdout",
     "output_type": "stream",
     "text": [
      "j -2\n"
     ]
    },
    {
     "data": {
      "text/plain": [
       "inf"
      ]
     },
     "execution_count": 50,
     "metadata": {},
     "output_type": "execute_result"
    }
   ],
   "source": [
    "arr1 =[]\n",
    "arr2 =[1]\n",
    "result=Solution()\n",
    "result.findMedianSortedArrays(arr1,arr2)"
   ]
  },
  {
   "cell_type": "code",
   "execution_count": 73,
   "metadata": {},
   "outputs": [],
   "source": [
    "def maxArea(height):\n",
    "    res=0\n",
    "    for left in range(len(height)):\n",
    "        for right in range(left+1,len(height)):\n",
    "            area=(right-left)* min(height[left],height[right])\n",
    "            res=max(res,area)\n",
    "    return res\n"
   ]
  },
  {
   "cell_type": "code",
   "execution_count": 76,
   "metadata": {},
   "outputs": [],
   "source": [
    "import heapq\n",
    "class Solution:\n",
    "    def maxArea(self, height):\n",
    "        arr=height\n",
    "        l,r=0,len(height)-1\n",
    "        max_area=0\n",
    "        while l<r:\n",
    "            area=min(arr[l],arr[r])*(r-l)\n",
    "            if area>max_area:\n",
    "                max_area=area\n",
    "            if arr[l]<arr[r]:\n",
    "                l+=1\n",
    "            else:\n",
    "                r-=1\n",
    "        return max_area\n",
    "            \n",
    "\n",
    "\n",
    "        #h1=min(heapq.nlargest(2,d.keys()))\n",
    "\n",
    "        #print(d)\n",
    "        #print()\n"
   ]
  },
  {
   "cell_type": "code",
   "execution_count": 81,
   "metadata": {},
   "outputs": [
    {
     "data": {
      "text/plain": [
       "49"
      ]
     },
     "execution_count": 81,
     "metadata": {},
     "output_type": "execute_result"
    }
   ],
   "source": [
    "height = [1,8,6,2,5,4,8,3,7]\n",
    "h2=[1,1]\n",
    "h3=[1,10,9,4,5,3,6,7,7]\n",
    "Solution().maxArea(h3)"
   ]
  },
  {
   "cell_type": "code",
   "execution_count": 109,
   "metadata": {},
   "outputs": [],
   "source": [
    "def twoSum(nums, target):\n",
    "        d={}\n",
    "        s=0\n",
    "        #value=nums[s]\n",
    "        e=len(nums)-1\n",
    "        while s<=e:\n",
    "            diff=target-nums[s]\n",
    "            if d.get(diff) is not None:\n",
    "                return [d.get(diff),s]\n",
    "            d[nums[s]]=s\n",
    "            s+=1"
   ]
  },
  {
   "cell_type": "code",
   "execution_count": 94,
   "metadata": {},
   "outputs": [
    {
     "name": "stdout",
     "output_type": "stream",
     "text": [
      "[0, 2]\n"
     ]
    }
   ],
   "source": [
    "nums = [2,11,7,15]\n",
    "target = 9\n",
    "Output=[0,1]\n",
    "print(twoSum(nums,target))"
   ]
  },
  {
   "cell_type": "code",
   "execution_count": 95,
   "metadata": {},
   "outputs": [
    {
     "data": {
      "text/plain": [
       "[2, 7, 11, 15]"
      ]
     },
     "execution_count": 95,
     "metadata": {},
     "output_type": "execute_result"
    }
   ],
   "source": [
    "sorted(nums)"
   ]
  },
  {
   "cell_type": "code",
   "execution_count": 97,
   "metadata": {},
   "outputs": [
    {
     "data": {
      "text/plain": [
       "[2, 11, 7, 15, 1]"
      ]
     },
     "execution_count": 97,
     "metadata": {},
     "output_type": "execute_result"
    }
   ],
   "source": [
    "nums+[1]"
   ]
  },
  {
   "cell_type": "code",
   "execution_count": 127,
   "metadata": {},
   "outputs": [],
   "source": [
    "class Solution: \n",
    "    def threeSum(self, nums):\n",
    "        result=[]\n",
    "        nums=sorted(nums)\n",
    "        for i,a in enumerate(nums):\n",
    "            if i>0 and nums[i]==nums[i-1]:\n",
    "                continue\n",
    "            l=i+1\n",
    "            r=len(nums)-1\n",
    "            while l<r:\n",
    "                value=a+nums[l]+nums[r]\n",
    "                if value>0:\n",
    "                    r-=1\n",
    "                elif value<0:\n",
    "                    l+=1\n",
    "                else:\n",
    "                    result.append([a,nums[l],nums[r]])\n",
    "                    l+=1\n",
    "                    while nums[l]==nums[l-1] and l<r:\n",
    "                        l+=1\n",
    "        return result\n"
   ]
  },
  {
   "cell_type": "code",
   "execution_count": 114,
   "metadata": {},
   "outputs": [],
   "source": [
    "nums1 = [-1,0,1,2,-1,-4] \n",
    "output1=[[-1,-1,2],[-1,0,1]]\n",
    "nums2 = [0,1,1]\n",
    "Output2= []\n",
    "nums3 = [0,0,0]\n",
    "Output3= [[0,0,0]]"
   ]
  },
  {
   "cell_type": "code",
   "execution_count": 119,
   "metadata": {},
   "outputs": [
    {
     "data": {
      "text/plain": [
       "[-1, 0, 1, 2, -1, -4]"
      ]
     },
     "execution_count": 119,
     "metadata": {},
     "output_type": "execute_result"
    }
   ],
   "source": [
    "nums1[0:]"
   ]
  },
  {
   "cell_type": "code",
   "execution_count": 128,
   "metadata": {},
   "outputs": [
    {
     "data": {
      "text/plain": [
       "[[0, 0, 0]]"
      ]
     },
     "execution_count": 128,
     "metadata": {},
     "output_type": "execute_result"
    }
   ],
   "source": [
    "Solution().threeSum(nums3)"
   ]
  },
  {
   "cell_type": "code",
   "execution_count": 195,
   "metadata": {},
   "outputs": [],
   "source": [
    "class Solution:\n",
    "    def threeSumClosest(self, nums,target):\n",
    "        sum=0\n",
    "        minimum=float('inf')\n",
    "        nums=sorted(nums)\n",
    "        for i,a in enumerate(nums):\n",
    "            l,r=i+1,len(nums)-1\n",
    "            while l<r:\n",
    "                value=a+nums[l]+nums[r]\n",
    "                diff=target-value\n",
    "                if abs(minimum)>abs(diff):\n",
    "                    minimum=diff\n",
    "                if value==target:\n",
    "                    return value\n",
    "                elif value>target:\n",
    "                    r-=1\n",
    "                else:\n",
    "                    l+=1\n",
    "        return target-minimum"
   ]
  },
  {
   "cell_type": "code",
   "execution_count": 196,
   "metadata": {},
   "outputs": [
    {
     "data": {
      "text/plain": [
       "2"
      ]
     },
     "execution_count": 196,
     "metadata": {},
     "output_type": "execute_result"
    }
   ],
   "source": [
    "nums = [-1,2,1,-4]\n",
    "target = 1\n",
    "output=2\n",
    "nums2=[1,1,1,0]\n",
    "target2=-100\n",
    "output2=2\n",
    "Solution().threeSumClosest(nums2,target2)"
   ]
  },
  {
   "cell_type": "code",
   "execution_count": 197,
   "metadata": {},
   "outputs": [
    {
     "data": {
      "text/plain": [
       "-2805"
      ]
     },
     "execution_count": 197,
     "metadata": {},
     "output_type": "execute_result"
    }
   ],
   "source": [
    "nums=[13,252,-87,-431,-148,387,-290,572,-311,-721,222,673,538,919,483,-128,-518,7,-36,-840,233,-184,-541,522,-162,127,-935,-397,761,\n",
    "903,-217,543,906,-503,-826,-342,599,-726,960,-235,436,-91,-511,-793,-658,-143,-524,-609,-728,-734,273,-19,-10,630,-294,-453,149,-581,-405,984,154,\n",
    "-968,623,-631,384,-825,308,779,-7,617,221,394,151,-282,472,332,-5,-509,611,-116,113,672,-497,-182,307,-592,925,766,-62,237,-8,789,318,-314,-792,-632,\n",
    "-781,375,939,-304,-149,544,-742,663,484,802,616,501,-269,-458,-763,-950,-390,-816,683,-219,381,478,-129,602,-931,128,502,508,-565,-243,-695,-943,-987,-692,\n",
    "346,-13,-225,-740,-441,-112,658,855,-531,542,839,795,-664,404,-844,-164,-709,167,953,-941,-848,211,-75,792,-208,569,-647,-714,-76,-603,-852,-665,-897,-627,\n",
    "123,-177,-35,-519,-241,-711,-74,420,-2,-101,715,\n",
    "708,256,-307,466,-602,-636,990,857,70,590,-4,610,-151,196,-981,385,-689,-617,827,360,-959,-289,620,933,-522,597,-667,-882,524,181,-854,275,-600,453,-942,134]\n",
    "target=-2805\n",
    "output=-2805\n",
    "Solution().threeSumClosest(nums,target)"
   ]
  },
  {
   "cell_type": "code",
   "execution_count": null,
   "metadata": {},
   "outputs": [],
   "source": []
  }
 ],
 "metadata": {
  "kernelspec": {
   "display_name": "base",
   "language": "python",
   "name": "python3"
  },
  "language_info": {
   "codemirror_mode": {
    "name": "ipython",
    "version": 3
   },
   "file_extension": ".py",
   "mimetype": "text/x-python",
   "name": "python",
   "nbconvert_exporter": "python",
   "pygments_lexer": "ipython3",
   "version": "3.8.5"
  },
  "orig_nbformat": 4,
  "vscode": {
   "interpreter": {
    "hash": "96eda470dd64796b733329ace847ffbdf47f2e1709652cbefd29938f28ae13b2"
   }
  }
 },
 "nbformat": 4,
 "nbformat_minor": 2
}
