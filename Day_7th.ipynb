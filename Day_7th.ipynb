{
 "cells": [
  {
   "cell_type": "code",
   "execution_count": 1,
   "metadata": {},
   "outputs": [],
   "source": [
    "#180 Consecutive numbers\n",
    "# Write your MySQL query statement below\n",
    "# select Distinct a.Num as ConsecutiveNums from Logs a\n",
    "# join Logs b on a.Id=b.Id+1 and a.Num=b.Num\n",
    "# join Logs c on a.Id=c.Id+2 and a.Num=c.Num;\n",
    "\n",
    "#using lead\n",
    "# With CTE as\n",
    "# (select num,Lead(num,1) over(order by id) as Lead1,Lead(num,2) over (order by id) Lead2 \n",
    "#     from Logs)\n",
    "\n",
    "# select distinct num as ConsecutiveNums From CTE where num=Lead1 and num=Lead2;"
   ]
  },
  {
   "cell_type": "code",
   "execution_count": 2,
   "metadata": {},
   "outputs": [],
   "source": [
    "# select a.name as Employee\n",
    "# from Employee a\n",
    "# join Employee b\n",
    "# on a.managerId=b.Id\n",
    "# and a.salary>b.salary;"
   ]
  },
  {
   "cell_type": "code",
   "execution_count": 3,
   "metadata": {},
   "outputs": [],
   "source": [
    "#Duplicate Emails\n",
    "# With CTE as\n",
    "# (select email,row_number() over(partition by email order by id) as r from Person)\n",
    "# select distinct email as Email from CTE where r>1;\n",
    "\n",
    "#select distinct email as Email from Person Group by Email Having count(*)>1;"
   ]
  },
  {
   "cell_type": "code",
   "execution_count": 4,
   "metadata": {},
   "outputs": [],
   "source": [
    "#Customers who never order\n",
    "# select c.name as Customers from Customers c where c.id not in (select o.customerId from Orders o);\n",
    "\n",
    "# select name as Customers from Customers c\n",
    "# left join Orders o on c.id=o.customerId where o.customerId is Null;"
   ]
  },
  {
   "cell_type": "code",
   "execution_count": null,
   "metadata": {},
   "outputs": [],
   "source": [
    "#Department Highest Salary\n",
    "# select d.name Department,e.name Employee,e.salary Salary\n",
    "# from Employee e join Department d\n",
    "# on e.departmentId = d.id\n",
    "# where (e.departmentId,e.salary) in (select departmentId,max(salary) from Employee Group by departmentId)"
   ]
  },
  {
   "cell_type": "code",
   "execution_count": null,
   "metadata": {},
   "outputs": [],
   "source": [
    "# 185\n",
    "# Department top three salaries\n",
    "# With CTE AS\n",
    "# (\n",
    "#     select name,salary,departmentId,\n",
    "#     Dense_rank() over (partition by departmentId order by salary desc) dr\n",
    "#     from Employee\n",
    "# )\n",
    "# select d.name as Department,c.name as Employee,c.salary as Salary\n",
    "# from CTE c join Department d \n",
    "# on c.departmentId=d.id\n",
    "# where c.dr<=3"
   ]
  }
 ],
 "metadata": {
  "kernelspec": {
   "display_name": "Python 3",
   "language": "python",
   "name": "python3"
  },
  "language_info": {
   "codemirror_mode": {
    "name": "ipython",
    "version": 3
   },
   "file_extension": ".py",
   "mimetype": "text/x-python",
   "name": "python",
   "nbconvert_exporter": "python",
   "pygments_lexer": "ipython3",
   "version": "3.8.10"
  },
  "orig_nbformat": 4,
  "vscode": {
   "interpreter": {
    "hash": "916dbcbb3f70747c44a77c7bcd40155683ae19c65e1c03b4aa3499c5328201f1"
   }
  }
 },
 "nbformat": 4,
 "nbformat_minor": 2
}
